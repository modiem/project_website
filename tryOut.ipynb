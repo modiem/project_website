{
 "cells": [
  {
   "cell_type": "markdown",
   "id": "combined-injection",
   "metadata": {},
   "source": [
    "## Geocoding\n"
   ]
  },
  {
   "cell_type": "code",
   "execution_count": 5,
   "id": "eligible-isaac",
   "metadata": {},
   "outputs": [],
   "source": [
    "import os\n",
    "key = os.environ.get(\"GOOGLEMAP_API_KEY\")"
   ]
  },
  {
   "cell_type": "code",
   "execution_count": 31,
   "id": "demographic-greene",
   "metadata": {},
   "outputs": [],
   "source": [
    "import googlemaps\n",
    "from datetime import datetime\n",
    "\n",
    "gmaps = googlemaps.Client(key=key)\n",
    "\n",
    "# Geocoding an address\n",
    "geocode_result = gmaps.geocode('chinese resteraunt manhatten')\n",
    "\n",
    "\n"
   ]
  },
  {
   "cell_type": "code",
   "execution_count": 32,
   "id": "wireless-lover",
   "metadata": {
    "scrolled": true
   },
   "outputs": [],
   "source": [
    "lat = geocode_result[0]['geometry']['location']['lat']"
   ]
  },
  {
   "cell_type": "code",
   "execution_count": 33,
   "id": "recorded-guyana",
   "metadata": {},
   "outputs": [],
   "source": [
    "lng = geocode_result[0]['geometry']['location']['lng']"
   ]
  },
  {
   "cell_type": "code",
   "execution_count": 34,
   "id": "competent-dancing",
   "metadata": {},
   "outputs": [
    {
     "data": {
      "text/plain": [
       "39.1903726"
      ]
     },
     "execution_count": 34,
     "metadata": {},
     "output_type": "execute_result"
    }
   ],
   "source": [
    "lat"
   ]
  },
  {
   "cell_type": "code",
   "execution_count": 35,
   "id": "bored-certificate",
   "metadata": {},
   "outputs": [
    {
     "data": {
      "text/plain": [
       "-96.6057692"
      ]
     },
     "execution_count": 35,
     "metadata": {},
     "output_type": "execute_result"
    }
   ],
   "source": [
    "lng"
   ]
  },
  {
   "cell_type": "code",
   "execution_count": null,
   "id": "detailed-haiti",
   "metadata": {},
   "outputs": [],
   "source": []
  }
 ],
 "metadata": {
  "kernelspec": {
   "display_name": "Python 3",
   "language": "python",
   "name": "python3"
  },
  "language_info": {
   "codemirror_mode": {
    "name": "ipython",
    "version": 3
   },
   "file_extension": ".py",
   "mimetype": "text/x-python",
   "name": "python",
   "nbconvert_exporter": "python",
   "pygments_lexer": "ipython3",
   "version": "3.8.5"
  },
  "toc": {
   "base_numbering": 1,
   "nav_menu": {},
   "number_sections": true,
   "sideBar": true,
   "skip_h1_title": true,
   "title_cell": "Table of Contents",
   "title_sidebar": "Contents",
   "toc_cell": false,
   "toc_position": {},
   "toc_section_display": true,
   "toc_window_display": true
  }
 },
 "nbformat": 4,
 "nbformat_minor": 5
}
