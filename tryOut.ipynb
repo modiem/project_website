{
 "cells": [
  {
   "cell_type": "markdown",
   "id": "combined-injection",
   "metadata": {},
   "source": [
    "## Geocoding\n"
   ]
  },
  {
   "cell_type": "code",
   "execution_count": 2,
   "id": "eligible-isaac",
   "metadata": {},
   "outputs": [],
   "source": [
    "import os\n",
    "key=os.environ.get(\"GOOGLEMAP_API_KEY\")"
   ]
  },
  {
   "cell_type": "code",
   "execution_count": 3,
   "id": "demographic-greene",
   "metadata": {},
   "outputs": [],
   "source": [
    "import googlemaps\n",
    "from datetime import datetime\n",
    "\n",
    "gmaps = googlemaps.Client(key=key)\n",
    "\n",
    "# Geocoding an address\n",
    "geocode_result = gmaps.geocode('chinese resteraunt manhatten')\n",
    "\n",
    "\n",
    "\n",
    "\n",
    "lat = geocode_result[0]['geometry']['location']['lat']\n",
    "\n",
    "lng = geocode_result[0]['geometry']['location']['lng']"
   ]
  },
  {
   "cell_type": "code",
   "execution_count": 4,
   "id": "under-possible",
   "metadata": {},
   "outputs": [
    {
     "data": {
      "text/plain": [
       "39.1903726"
      ]
     },
     "execution_count": 4,
     "metadata": {},
     "output_type": "execute_result"
    }
   ],
   "source": [
    "lat"
   ]
  },
  {
   "cell_type": "code",
   "execution_count": 29,
   "id": "applicable-blade",
   "metadata": {},
   "outputs": [],
   "source": [
    "def geocoder_here(adress, token=HERE_API_KEY):\n",
    "    \"\"\"\n",
    "    adress: NewYork libery\n",
    "     ==>  {'lat': 41.79854, 'lng': -74.74493}\n",
    "    \"\"\"\n",
    "    geocoderApi = herepy.GeocoderApi(api_key=token)\n",
    "    res = geocoderApi.free_form(adress)\n",
    "    res = res.as_dict()\n",
    "    coords = res[\"items\"][0][\"position\"]\n",
    "    coords = {k.lower(): v for k, v in coords.items()}\n",
    "    return coords"
   ]
  },
  {
   "cell_type": "code",
   "execution_count": 32,
   "id": "defined-reminder",
   "metadata": {},
   "outputs": [
    {
     "data": {
      "text/plain": [
       "{'lat': 41.79854, 'lng': -74.74493}"
      ]
     },
     "execution_count": 32,
     "metadata": {},
     "output_type": "execute_result"
    }
   ],
   "source": [
    "adress = \"NewYork libery\"\n",
    "geocoder_here(adress)"
   ]
  },
  {
   "cell_type": "code",
   "execution_count": 43,
   "id": "collect-buddy",
   "metadata": {
    "scrolled": true
   },
   "outputs": [
    {
     "data": {
      "text/plain": [
       "'36 Liberty Commons Way, Liberty, NY 12754-3009, United States'"
      ]
     },
     "execution_count": 43,
     "metadata": {},
     "output_type": "execute_result"
    }
   ],
   "source": [
    "geocoderReverseApi.retrieve_addresses((41.79, -74.74)).as_dict()['items'][0]['address']['label']"
   ]
  },
  {
   "cell_type": "code",
   "execution_count": 57,
   "id": "approved-prevention",
   "metadata": {},
   "outputs": [],
   "source": [
    "def reverse_geocoder_here(coords, token=HERE_API_KEY):\n",
    "    \"\"\"\n",
    "    coords: (lat, lng)\n",
    "    ==> 4 Av du General de Gaulle\n",
    "    \"\"\"\n",
    "    geocoderReverseApi = herepy.GeocoderReverseApi(token)\n",
    "    res = geocoderReverseApi.retrieve_addresses(coords)\n",
    "    res = res.as_dict()\n",
    "    adress = res['items'][0]['address']['label']\n",
    "    lat = res['items'][0]['position']['lat']\n",
    "    lng = res['items'][0]['position']['lng']\n",
    "#     return {\"adress\":adress, \"lat\":lat, \"lng\":lng}\n",
    "    return res"
   ]
  },
  {
   "cell_type": "code",
   "execution_count": 60,
   "id": "right-volleyball",
   "metadata": {},
   "outputs": [
    {
     "data": {
      "text/plain": [
       "{'items': [{'title': '1301 6th Ave, New York, NY 10019-0127, United States',\n",
       "   'id': 'here:af:streetsection:ayDv8YQoFHkwSYfh0WeeiB:CgcIBCCWjukjEAEaBDEzMDE',\n",
       "   'resultType': 'houseNumber',\n",
       "   'houseNumberType': 'PA',\n",
       "   'address': {'label': '1301 6th Ave, New York, NY 10019-0127, United States',\n",
       "    'countryCode': 'USA',\n",
       "    'countryName': 'United States',\n",
       "    'stateCode': 'NY',\n",
       "    'state': 'New York',\n",
       "    'county': 'New York',\n",
       "    'city': 'New York',\n",
       "    'district': 'Theater District-Times Square',\n",
       "    'street': '6th Ave',\n",
       "    'postalCode': '10019-0127',\n",
       "    'houseNumber': '1301'},\n",
       "   'position': {'lat': 40.76175, 'lng': -73.98003},\n",
       "   'access': [{'lat': 40.76141, 'lng': -73.9793}],\n",
       "   'distance': 40,\n",
       "   'mapView': {'west': -73.97994,\n",
       "    'south': 40.76053,\n",
       "    'east': -73.97903,\n",
       "    'north': 40.76178}}]}"
      ]
     },
     "execution_count": 60,
     "metadata": {},
     "output_type": "execute_result"
    }
   ],
   "source": [
    "reverse_geocoder_here((40.7614327, -73.9798156))"
   ]
  },
  {
   "cell_type": "markdown",
   "id": "advance-belief",
   "metadata": {
    "heading_collapsed": true
   },
   "source": [
    "## check map"
   ]
  },
  {
   "cell_type": "code",
   "execution_count": 38,
   "id": "proper-worcester",
   "metadata": {
    "hidden": true
   },
   "outputs": [],
   "source": [
    "import pandas as pd\n",
    "import numpy as np"
   ]
  },
  {
   "cell_type": "code",
   "execution_count": 39,
   "id": "annoying-knock",
   "metadata": {
    "hidden": true
   },
   "outputs": [],
   "source": [
    "def get_map_data():\n",
    "    print('get_map_data called')\n",
    "    return pd.DataFrame(\n",
    "            np.random.randn(1000, 2) / [50, 50] + [37.76, -122.4],\n",
    "            columns=['lat', 'lon']\n",
    "        )"
   ]
  },
  {
   "cell_type": "code",
   "execution_count": 40,
   "id": "fresh-proposal",
   "metadata": {
    "hidden": true
   },
   "outputs": [
    {
     "name": "stdout",
     "output_type": "stream",
     "text": [
      "get_map_data called\n"
     ]
    },
    {
     "data": {
      "text/html": [
       "<div>\n",
       "<style scoped>\n",
       "    .dataframe tbody tr th:only-of-type {\n",
       "        vertical-align: middle;\n",
       "    }\n",
       "\n",
       "    .dataframe tbody tr th {\n",
       "        vertical-align: top;\n",
       "    }\n",
       "\n",
       "    .dataframe thead th {\n",
       "        text-align: right;\n",
       "    }\n",
       "</style>\n",
       "<table border=\"1\" class=\"dataframe\">\n",
       "  <thead>\n",
       "    <tr style=\"text-align: right;\">\n",
       "      <th></th>\n",
       "      <th>lat</th>\n",
       "      <th>lon</th>\n",
       "    </tr>\n",
       "  </thead>\n",
       "  <tbody>\n",
       "    <tr>\n",
       "      <th>0</th>\n",
       "      <td>37.754900</td>\n",
       "      <td>-122.389403</td>\n",
       "    </tr>\n",
       "    <tr>\n",
       "      <th>1</th>\n",
       "      <td>37.777397</td>\n",
       "      <td>-122.431894</td>\n",
       "    </tr>\n",
       "    <tr>\n",
       "      <th>2</th>\n",
       "      <td>37.751341</td>\n",
       "      <td>-122.383356</td>\n",
       "    </tr>\n",
       "    <tr>\n",
       "      <th>3</th>\n",
       "      <td>37.737145</td>\n",
       "      <td>-122.387319</td>\n",
       "    </tr>\n",
       "    <tr>\n",
       "      <th>4</th>\n",
       "      <td>37.727492</td>\n",
       "      <td>-122.394000</td>\n",
       "    </tr>\n",
       "    <tr>\n",
       "      <th>...</th>\n",
       "      <td>...</td>\n",
       "      <td>...</td>\n",
       "    </tr>\n",
       "    <tr>\n",
       "      <th>995</th>\n",
       "      <td>37.781718</td>\n",
       "      <td>-122.391251</td>\n",
       "    </tr>\n",
       "    <tr>\n",
       "      <th>996</th>\n",
       "      <td>37.765211</td>\n",
       "      <td>-122.406913</td>\n",
       "    </tr>\n",
       "    <tr>\n",
       "      <th>997</th>\n",
       "      <td>37.781971</td>\n",
       "      <td>-122.418730</td>\n",
       "    </tr>\n",
       "    <tr>\n",
       "      <th>998</th>\n",
       "      <td>37.787618</td>\n",
       "      <td>-122.395946</td>\n",
       "    </tr>\n",
       "    <tr>\n",
       "      <th>999</th>\n",
       "      <td>37.773832</td>\n",
       "      <td>-122.387691</td>\n",
       "    </tr>\n",
       "  </tbody>\n",
       "</table>\n",
       "<p>1000 rows × 2 columns</p>\n",
       "</div>"
      ],
      "text/plain": [
       "           lat         lon\n",
       "0    37.754900 -122.389403\n",
       "1    37.777397 -122.431894\n",
       "2    37.751341 -122.383356\n",
       "3    37.737145 -122.387319\n",
       "4    37.727492 -122.394000\n",
       "..         ...         ...\n",
       "995  37.781718 -122.391251\n",
       "996  37.765211 -122.406913\n",
       "997  37.781971 -122.418730\n",
       "998  37.787618 -122.395946\n",
       "999  37.773832 -122.387691\n",
       "\n",
       "[1000 rows x 2 columns]"
      ]
     },
     "execution_count": 40,
     "metadata": {},
     "output_type": "execute_result"
    }
   ],
   "source": [
    "get_map_data()"
   ]
  },
  {
   "cell_type": "code",
   "execution_count": 41,
   "id": "piano-davis",
   "metadata": {
    "hidden": true
   },
   "outputs": [
    {
     "data": {
      "text/plain": [
       "array([[  37.77356675, -122.40000464],\n",
       "       [  37.75196372, -122.39941936],\n",
       "       [  37.73721252, -122.4058184 ],\n",
       "       ...,\n",
       "       [  37.76652806, -122.38868628],\n",
       "       [  37.76476245, -122.42208331],\n",
       "       [  37.72967601, -122.40008939]])"
      ]
     },
     "execution_count": 41,
     "metadata": {},
     "output_type": "execute_result"
    }
   ],
   "source": [
    "np.random.randn(1000, 2) / [50, 50] + [37.76, -122.4]"
   ]
  },
  {
   "cell_type": "code",
   "execution_count": 45,
   "id": "growing-consensus",
   "metadata": {
    "hidden": true
   },
   "outputs": [
    {
     "data": {
      "text/html": [
       "<div>\n",
       "<style scoped>\n",
       "    .dataframe tbody tr th:only-of-type {\n",
       "        vertical-align: middle;\n",
       "    }\n",
       "\n",
       "    .dataframe tbody tr th {\n",
       "        vertical-align: top;\n",
       "    }\n",
       "\n",
       "    .dataframe thead th {\n",
       "        text-align: right;\n",
       "    }\n",
       "</style>\n",
       "<table border=\"1\" class=\"dataframe\">\n",
       "  <thead>\n",
       "    <tr style=\"text-align: right;\">\n",
       "      <th></th>\n",
       "      <th>lat</th>\n",
       "      <th>lng</th>\n",
       "    </tr>\n",
       "  </thead>\n",
       "  <tbody>\n",
       "    <tr>\n",
       "      <th>0</th>\n",
       "      <td>1</td>\n",
       "      <td>3</td>\n",
       "    </tr>\n",
       "    <tr>\n",
       "      <th>1</th>\n",
       "      <td>2</td>\n",
       "      <td>4</td>\n",
       "    </tr>\n",
       "  </tbody>\n",
       "</table>\n",
       "</div>"
      ],
      "text/plain": [
       "   lat  lng\n",
       "0    1    3\n",
       "1    2    4"
      ]
     },
     "execution_count": 45,
     "metadata": {},
     "output_type": "execute_result"
    }
   ],
   "source": [
    "pd.DataFrame({\"lat\":[1,2], \"lng\":[3,4]})"
   ]
  },
  {
   "cell_type": "code",
   "execution_count": null,
   "id": "polar-variable",
   "metadata": {
    "hidden": true
   },
   "outputs": [],
   "source": []
  }
 ],
 "metadata": {
  "kernelspec": {
   "display_name": "Python 3",
   "language": "python",
   "name": "python3"
  },
  "language_info": {
   "codemirror_mode": {
    "name": "ipython",
    "version": 3
   },
   "file_extension": ".py",
   "mimetype": "text/x-python",
   "name": "python",
   "nbconvert_exporter": "python",
   "pygments_lexer": "ipython3",
   "version": "3.8.5"
  },
  "toc": {
   "base_numbering": 1,
   "nav_menu": {},
   "number_sections": true,
   "sideBar": true,
   "skip_h1_title": true,
   "title_cell": "Table of Contents",
   "title_sidebar": "Contents",
   "toc_cell": false,
   "toc_position": {},
   "toc_section_display": true,
   "toc_window_display": true
  }
 },
 "nbformat": 4,
 "nbformat_minor": 5
}
