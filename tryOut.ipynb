{
 "cells": [
  {
   "cell_type": "markdown",
   "id": "combined-injection",
   "metadata": {},
   "source": [
    "## Geocoding\n"
   ]
  },
  {
   "cell_type": "code",
   "execution_count": 5,
   "id": "eligible-isaac",
   "metadata": {},
   "outputs": [],
   "source": [
    "import os\n",
    "key = os.environ.get(\"GOOGLEMAP_API_KEY\")"
   ]
  },
  {
   "cell_type": "code",
   "execution_count": 31,
   "id": "demographic-greene",
   "metadata": {},
   "outputs": [],
   "source": [
    "import googlemaps\n",
    "from datetime import datetime\n",
    "\n",
    "gmaps = googlemaps.Client(key=key)\n",
    "\n",
    "# Geocoding an address\n",
    "geocode_result = gmaps.geocode('chinese resteraunt manhatten')\n",
    "\n",
    "\n",
    "\n",
    "\n",
    "lat = geocode_result[0]['geometry']['location']['lat']\n",
    "\n",
    "lng = geocode_result[0]['geometry']['location']['lng']"
   ]
  },
  {
   "cell_type": "code",
   "execution_count": 9,
   "id": "detailed-haiti",
   "metadata": {},
   "outputs": [],
   "source": [
    "import herepy\n",
    "token = 'hghATdDoB9O87DeDmJ3uZlcLjx5j7vsfL9eivAGhRRI'"
   ]
  },
  {
   "cell_type": "code",
   "execution_count": 32,
   "id": "applicable-blade",
   "metadata": {},
   "outputs": [],
   "source": [
    "def geocoder_here(adress, token=HERE_API_KEY):\n",
    "    \"\"\"\n",
    "    adress: NewYork libery\n",
    "     ==>  {'lat': 41.79854, 'lng': -74.74493}\n",
    "    \"\"\"\n",
    "    geocoderApi = herepy.GeocoderApi(api_key=token)\n",
    "    res = geocoderApi.free_form(adress)\n",
    "    res = res.as_dict()\n",
    "    coords = res[\"items\"][0][\"position\"]\n",
    "    coords = {k.lower(): v for k, v in coords.items()}\n",
    "    return coords"
   ]
  },
  {
   "cell_type": "code",
   "execution_count": 34,
   "id": "defined-reminder",
   "metadata": {},
   "outputs": [],
   "source": [
    "adress = \"NewYork libery\""
   ]
  },
  {
   "cell_type": "code",
   "execution_count": 35,
   "id": "natural-farming",
   "metadata": {},
   "outputs": [
    {
     "data": {
      "text/plain": [
       "{'lat': 41.79854, 'lng': -74.74493}"
      ]
     },
     "execution_count": 35,
     "metadata": {},
     "output_type": "execute_result"
    }
   ],
   "source": [
    "geocoder_here(adress)"
   ]
  },
  {
   "cell_type": "code",
   "execution_count": 36,
   "id": "executive-exhibit",
   "metadata": {},
   "outputs": [],
   "source": [
    "geocoderReverseApi = herepy.GeocoderReverseApi(token)"
   ]
  },
  {
   "cell_type": "code",
   "execution_count": 43,
   "id": "collect-buddy",
   "metadata": {},
   "outputs": [
    {
     "data": {
      "text/plain": [
       "'36 Liberty Commons Way, Liberty, NY 12754-3009, United States'"
      ]
     },
     "execution_count": 43,
     "metadata": {},
     "output_type": "execute_result"
    }
   ],
   "source": [
    "geocoderReverseApi.retrieve_addresses((41.79, -74.74)).as_dict()['items'][0]['address']['label']"
   ]
  },
  {
   "cell_type": "code",
   "execution_count": 44,
   "id": "approved-prevention",
   "metadata": {},
   "outputs": [],
   "source": [
    "def reverse_geocoder_here(coords, token=HERE_API_KEY):\n",
    "    \"\"\"\n",
    "    coords: (lat, lng)\n",
    "    ==> 4 Av du General de Gaulle\n",
    "    \"\"\"\n",
    "    geocoderReverseApi = herepy.GeocoderReverseApi(token)\n",
    "    res = geocoderReverseApi.retrieve_addresses(coords)\n",
    "    res = res.as_dict()\n",
    "    adress = res['items'][0]['address']['label']\n",
    "    return adress"
   ]
  },
  {
   "cell_type": "code",
   "execution_count": null,
   "id": "personalized-revolution",
   "metadata": {},
   "outputs": [],
   "source": []
  }
 ],
 "metadata": {
  "kernelspec": {
   "display_name": "Python 3",
   "language": "python",
   "name": "python3"
  },
  "language_info": {
   "codemirror_mode": {
    "name": "ipython",
    "version": 3
   },
   "file_extension": ".py",
   "mimetype": "text/x-python",
   "name": "python",
   "nbconvert_exporter": "python",
   "pygments_lexer": "ipython3",
   "version": "3.8.5"
  },
  "toc": {
   "base_numbering": 1,
   "nav_menu": {},
   "number_sections": true,
   "sideBar": true,
   "skip_h1_title": true,
   "title_cell": "Table of Contents",
   "title_sidebar": "Contents",
   "toc_cell": false,
   "toc_position": {},
   "toc_section_display": true,
   "toc_window_display": true
  }
 },
 "nbformat": 4,
 "nbformat_minor": 5
}
